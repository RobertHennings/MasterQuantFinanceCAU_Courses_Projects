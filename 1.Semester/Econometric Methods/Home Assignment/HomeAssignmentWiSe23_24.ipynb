{
 "cells": [
  {
   "cell_type": "markdown",
   "metadata": {},
   "source": [
    "# Econometric Methods WiSe 2023/2024 Home Assignment"
   ]
  },
  {
   "cell_type": "markdown",
   "metadata": {},
   "source": [
    "## Group Members\n",
    "* Josef Fella\n",
    "* Robert Hennings"
   ]
  },
  {
   "cell_type": "code",
   "execution_count": 1,
   "metadata": {},
   "outputs": [
    {
     "name": "stdout",
     "output_type": "stream",
     "text": [
      "Loaded data successfully with shape: (10000, 8)\n"
     ]
    }
   ],
   "source": [
    "# Load the data\n",
    "import pandas as pd\n",
    "import numpy as np\n",
    "import statsmodels.api as sm\n",
    "import statsmodels.formula.api as smf\n",
    "import matplotlib.pyplot as plt\n",
    "import scipy.stats as st\n",
    "path = r\"/Users/Robert_Hennings/Dokumente/Uni/Master/3.Semester/Econometric Methods/Home Assignment/\"\n",
    "data_file = \"HA_smoking.dta\"\n",
    "smoking_data = pd.read_stata(path + data_file)\n",
    "print(f\"Loaded data successfully with shape: {smoking_data.shape}\")"
   ]
  },
  {
   "cell_type": "markdown",
   "metadata": {},
   "source": [
    "## Exercise 1)"
   ]
  },
  {
   "cell_type": "markdown",
   "metadata": {},
   "source": [
    "### a)\n",
    "### Import and briefly describe the dataset."
   ]
  },
  {
   "cell_type": "code",
   "execution_count": 2,
   "metadata": {},
   "outputs": [
    {
     "data": {
      "text/html": [
       "<div>\n",
       "<style scoped>\n",
       "    .dataframe tbody tr th:only-of-type {\n",
       "        vertical-align: middle;\n",
       "    }\n",
       "\n",
       "    .dataframe tbody tr th {\n",
       "        vertical-align: top;\n",
       "    }\n",
       "\n",
       "    .dataframe thead th {\n",
       "        text-align: right;\n",
       "    }\n",
       "</style>\n",
       "<table border=\"1\" class=\"dataframe\">\n",
       "  <thead>\n",
       "    <tr style=\"text-align: right;\">\n",
       "      <th></th>\n",
       "      <th>smoker</th>\n",
       "      <th>smkban</th>\n",
       "      <th>age</th>\n",
       "      <th>hsdrop</th>\n",
       "      <th>hsgrad</th>\n",
       "      <th>colsome</th>\n",
       "      <th>colgrad</th>\n",
       "      <th>female</th>\n",
       "    </tr>\n",
       "  </thead>\n",
       "  <tbody>\n",
       "    <tr>\n",
       "      <th>0</th>\n",
       "      <td>1</td>\n",
       "      <td>1</td>\n",
       "      <td>41</td>\n",
       "      <td>0</td>\n",
       "      <td>1</td>\n",
       "      <td>0</td>\n",
       "      <td>0</td>\n",
       "      <td>1</td>\n",
       "    </tr>\n",
       "    <tr>\n",
       "      <th>1</th>\n",
       "      <td>1</td>\n",
       "      <td>1</td>\n",
       "      <td>44</td>\n",
       "      <td>0</td>\n",
       "      <td>0</td>\n",
       "      <td>1</td>\n",
       "      <td>0</td>\n",
       "      <td>1</td>\n",
       "    </tr>\n",
       "    <tr>\n",
       "      <th>2</th>\n",
       "      <td>0</td>\n",
       "      <td>0</td>\n",
       "      <td>19</td>\n",
       "      <td>0</td>\n",
       "      <td>0</td>\n",
       "      <td>1</td>\n",
       "      <td>0</td>\n",
       "      <td>1</td>\n",
       "    </tr>\n",
       "    <tr>\n",
       "      <th>3</th>\n",
       "      <td>1</td>\n",
       "      <td>0</td>\n",
       "      <td>29</td>\n",
       "      <td>0</td>\n",
       "      <td>1</td>\n",
       "      <td>0</td>\n",
       "      <td>0</td>\n",
       "      <td>1</td>\n",
       "    </tr>\n",
       "    <tr>\n",
       "      <th>4</th>\n",
       "      <td>0</td>\n",
       "      <td>1</td>\n",
       "      <td>28</td>\n",
       "      <td>0</td>\n",
       "      <td>0</td>\n",
       "      <td>1</td>\n",
       "      <td>0</td>\n",
       "      <td>1</td>\n",
       "    </tr>\n",
       "    <tr>\n",
       "      <th>5</th>\n",
       "      <td>0</td>\n",
       "      <td>0</td>\n",
       "      <td>40</td>\n",
       "      <td>0</td>\n",
       "      <td>0</td>\n",
       "      <td>1</td>\n",
       "      <td>0</td>\n",
       "      <td>0</td>\n",
       "    </tr>\n",
       "    <tr>\n",
       "      <th>6</th>\n",
       "      <td>1</td>\n",
       "      <td>1</td>\n",
       "      <td>47</td>\n",
       "      <td>0</td>\n",
       "      <td>0</td>\n",
       "      <td>1</td>\n",
       "      <td>0</td>\n",
       "      <td>1</td>\n",
       "    </tr>\n",
       "    <tr>\n",
       "      <th>7</th>\n",
       "      <td>1</td>\n",
       "      <td>0</td>\n",
       "      <td>36</td>\n",
       "      <td>0</td>\n",
       "      <td>0</td>\n",
       "      <td>1</td>\n",
       "      <td>0</td>\n",
       "      <td>0</td>\n",
       "    </tr>\n",
       "    <tr>\n",
       "      <th>8</th>\n",
       "      <td>0</td>\n",
       "      <td>1</td>\n",
       "      <td>49</td>\n",
       "      <td>0</td>\n",
       "      <td>0</td>\n",
       "      <td>1</td>\n",
       "      <td>0</td>\n",
       "      <td>1</td>\n",
       "    </tr>\n",
       "    <tr>\n",
       "      <th>9</th>\n",
       "      <td>0</td>\n",
       "      <td>0</td>\n",
       "      <td>44</td>\n",
       "      <td>0</td>\n",
       "      <td>0</td>\n",
       "      <td>1</td>\n",
       "      <td>0</td>\n",
       "      <td>0</td>\n",
       "    </tr>\n",
       "    <tr>\n",
       "      <th>10</th>\n",
       "      <td>0</td>\n",
       "      <td>0</td>\n",
       "      <td>33</td>\n",
       "      <td>0</td>\n",
       "      <td>0</td>\n",
       "      <td>1</td>\n",
       "      <td>0</td>\n",
       "      <td>1</td>\n",
       "    </tr>\n",
       "    <tr>\n",
       "      <th>11</th>\n",
       "      <td>0</td>\n",
       "      <td>0</td>\n",
       "      <td>49</td>\n",
       "      <td>0</td>\n",
       "      <td>1</td>\n",
       "      <td>0</td>\n",
       "      <td>0</td>\n",
       "      <td>1</td>\n",
       "    </tr>\n",
       "    <tr>\n",
       "      <th>12</th>\n",
       "      <td>0</td>\n",
       "      <td>1</td>\n",
       "      <td>28</td>\n",
       "      <td>0</td>\n",
       "      <td>0</td>\n",
       "      <td>1</td>\n",
       "      <td>0</td>\n",
       "      <td>0</td>\n",
       "    </tr>\n",
       "    <tr>\n",
       "      <th>13</th>\n",
       "      <td>0</td>\n",
       "      <td>1</td>\n",
       "      <td>32</td>\n",
       "      <td>0</td>\n",
       "      <td>0</td>\n",
       "      <td>1</td>\n",
       "      <td>0</td>\n",
       "      <td>0</td>\n",
       "    </tr>\n",
       "    <tr>\n",
       "      <th>14</th>\n",
       "      <td>0</td>\n",
       "      <td>1</td>\n",
       "      <td>29</td>\n",
       "      <td>0</td>\n",
       "      <td>0</td>\n",
       "      <td>1</td>\n",
       "      <td>0</td>\n",
       "      <td>1</td>\n",
       "    </tr>\n",
       "    <tr>\n",
       "      <th>15</th>\n",
       "      <td>0</td>\n",
       "      <td>0</td>\n",
       "      <td>47</td>\n",
       "      <td>0</td>\n",
       "      <td>1</td>\n",
       "      <td>0</td>\n",
       "      <td>0</td>\n",
       "      <td>0</td>\n",
       "    </tr>\n",
       "    <tr>\n",
       "      <th>16</th>\n",
       "      <td>0</td>\n",
       "      <td>1</td>\n",
       "      <td>36</td>\n",
       "      <td>0</td>\n",
       "      <td>0</td>\n",
       "      <td>1</td>\n",
       "      <td>0</td>\n",
       "      <td>1</td>\n",
       "    </tr>\n",
       "    <tr>\n",
       "      <th>17</th>\n",
       "      <td>0</td>\n",
       "      <td>1</td>\n",
       "      <td>48</td>\n",
       "      <td>0</td>\n",
       "      <td>0</td>\n",
       "      <td>1</td>\n",
       "      <td>0</td>\n",
       "      <td>1</td>\n",
       "    </tr>\n",
       "    <tr>\n",
       "      <th>18</th>\n",
       "      <td>1</td>\n",
       "      <td>1</td>\n",
       "      <td>28</td>\n",
       "      <td>0</td>\n",
       "      <td>0</td>\n",
       "      <td>1</td>\n",
       "      <td>0</td>\n",
       "      <td>1</td>\n",
       "    </tr>\n",
       "    <tr>\n",
       "      <th>19</th>\n",
       "      <td>1</td>\n",
       "      <td>1</td>\n",
       "      <td>24</td>\n",
       "      <td>0</td>\n",
       "      <td>0</td>\n",
       "      <td>1</td>\n",
       "      <td>0</td>\n",
       "      <td>0</td>\n",
       "    </tr>\n",
       "  </tbody>\n",
       "</table>\n",
       "</div>"
      ],
      "text/plain": [
       "    smoker  smkban  age  hsdrop  hsgrad  colsome  colgrad  female\n",
       "0        1       1   41       0       1        0        0       1\n",
       "1        1       1   44       0       0        1        0       1\n",
       "2        0       0   19       0       0        1        0       1\n",
       "3        1       0   29       0       1        0        0       1\n",
       "4        0       1   28       0       0        1        0       1\n",
       "5        0       0   40       0       0        1        0       0\n",
       "6        1       1   47       0       0        1        0       1\n",
       "7        1       0   36       0       0        1        0       0\n",
       "8        0       1   49       0       0        1        0       1\n",
       "9        0       0   44       0       0        1        0       0\n",
       "10       0       0   33       0       0        1        0       1\n",
       "11       0       0   49       0       1        0        0       1\n",
       "12       0       1   28       0       0        1        0       0\n",
       "13       0       1   32       0       0        1        0       0\n",
       "14       0       1   29       0       0        1        0       1\n",
       "15       0       0   47       0       1        0        0       0\n",
       "16       0       1   36       0       0        1        0       1\n",
       "17       0       1   48       0       0        1        0       1\n",
       "18       1       1   28       0       0        1        0       1\n",
       "19       1       1   24       0       0        1        0       0"
      ]
     },
     "execution_count": 2,
     "metadata": {},
     "output_type": "execute_result"
    }
   ],
   "source": [
    "smoking_data.head(20)"
   ]
  },
  {
   "cell_type": "code",
   "execution_count": 24,
   "metadata": {},
   "outputs": [
    {
     "name": "stdout",
     "output_type": "stream",
     "text": [
      "<class 'pandas.core.frame.DataFrame'>\n",
      "Int64Index: 10000 entries, 0 to 9999\n",
      "Data columns (total 10 columns):\n",
      " #   Column     Non-Null Count  Dtype\n",
      "---  ------     --------------  -----\n",
      " 0   smoker     10000 non-null  int8 \n",
      " 1   constant_  10000 non-null  int64\n",
      " 2   smkban     10000 non-null  int8 \n",
      " 3   age        10000 non-null  int8 \n",
      " 4   age_sqrt   10000 non-null  int64\n",
      " 5   hsdrop     10000 non-null  int8 \n",
      " 6   hsgrad     10000 non-null  int8 \n",
      " 7   colsome    10000 non-null  int8 \n",
      " 8   colgrad    10000 non-null  int8 \n",
      " 9   female     10000 non-null  int8 \n",
      "dtypes: int64(2), int8(8)\n",
      "memory usage: 312.5 KB\n"
     ]
    },
    {
     "data": {
      "image/png": "[encoded data removed]",
      "text/plain": [
       "<Figure size 640x480 with 1 Axes>"
      ]
     },
     "metadata": {},
     "output_type": "display_data"
    },
    {
     "data": {
      "image/png": "[encoded data removed]",
      "text/plain": [
       "<Figure size 640x480 with 1 Axes>"
      ]
     },
     "metadata": {},
     "output_type": "display_data"
    },
    {
     "data": {
      "image/png": "[encoded data removed]",
      "text/plain": [
       "<Figure size 640x480 with 1 Axes>"
      ]
     },
     "metadata": {},
     "output_type": "display_data"
    },
    {
     "data": {
      "image/png": "[encoded data removed]",
      "text/plain": [
       "<Figure size 640x480 with 1 Axes>"
      ]
     },
     "metadata": {},
     "output_type": "display_data"
    }
   ],
   "source": [
    "smoking_data.describe()\n",
    "smoking_data.info()\n",
    "smoking_data.isna().value_counts()\n",
    "\n",
    "# Look at the different class distributions in the base dataset\n",
    "# Genders in %\n",
    "(smoking_data.female.value_counts() / smoking_data.shape[0]) * 100\n",
    "# Gender representation seems to be quite \n",
    "plt.bar(x=[\"female\", \"male\"], height=smoking_data.female.value_counts().to_list(), color=\"#9b0a7d\")\n",
    "plt.title(f\"Gender representation in the overall dataset, N: {smoking_data.shape[0]}\", fontsize=14)\n",
    "plt.ylabel(\"Absolute Frequency\")\n",
    "plt.show()\n",
    "# Gender distribution within the classes of smokers and non-smokers\n",
    "plt.bar(x=[\"female\", \"male\"], height=[smoking_data.query(\"smoker==0 and female==1\").shape[0],\n",
    "                                      smoking_data.query(\"smoker==0 and female==0\").shape[0]],\n",
    "                                    label=\"Non-smoker\", color=\"grey\")\n",
    "plt.bar(x=[\"female\", \"male\"], height=[smoking_data.query(\"smoker==1 and female==1\").shape[0],\n",
    "                                      smoking_data.query(\"smoker==1 and female==0\").shape[0]],\n",
    "                                    label=\"Smoker\", color=\"#9b0a7d\")\n",
    "plt.title(f\"Gender representation in the cond. dataset\", fontsize=14)\n",
    "plt.ylabel(\"Absolute Frequency\")\n",
    "plt.legend()\n",
    "plt.show()\n",
    "# Age distribution\n",
    "(smoking_data.age.value_counts() / smoking_data.shape[0]) * 100\n",
    "# Class distribution of age\n",
    "plt.hist(smoking_data.age, bins=30, density=True, color=\"#9b0a7d\")\n",
    "plt.vlines(x=round(np.mean(smoking_data.age)), ymin=0, ymax= 0.050, color=\"black\", linewidth=1)\n",
    "plt.title(\"Histogram of Age\")\n",
    "plt.ylabel(\"Density\")\n",
    "plt.xlabel(\"Age Range\")\n",
    "plt.show()\n",
    "# Looking at the educational variables\n",
    "educ_df = pd.DataFrame()\n",
    "for educ_var in smoking_data.columns[5:9]:\n",
    "    educ_df[educ_var] = smoking_data[educ_var].value_counts()\n",
    "\n",
    "# Class distribution\n",
    "plt.bar(x=smoking_data.columns[5:9], height=educ_df.loc[0], color=\"grey\", label=\"0: No dropout\")\n",
    "plt.bar(x=smoking_data.columns[5:9], height=educ_df.loc[1], color=\"#9b0a7d\", label=\"1: Dropout\")\n",
    "plt.title(f\"Educational Variables: Class Distribution of: {smoking_data.columns[5:9].to_list()}\", fontsize=10)\n",
    "plt.ylabel(\"Absolute Frequency\")\n",
    "plt.legend()\n",
    "plt.show()"
   ]
  },
  {
   "cell_type": "code",
   "execution_count": 4,
   "metadata": {},
   "outputs": [
    {
     "data": {
      "image/png": "[encoded data removed]",
      "text/plain": [
       "<Figure size 640x480 with 1 Axes>"
      ]
     },
     "metadata": {},
     "output_type": "display_data"
    }
   ],
   "source": [
    "# Class distribution of age\n",
    "plt.hist(smoking_data.age, bins=30, density=True, color=\"#9b0a7d\")\n",
    "plt.vlines(x=round(np.mean(smoking_data.age)), ymin=0, ymax= 0.050, color=\"black\", linewidth=1)\n",
    "plt.title(\"Histogram of Age\")\n",
    "plt.ylabel(\"Density\")\n",
    "plt.xlabel(\"Age Range\")\n",
    "plt.show()"
   ]
  },
  {
   "cell_type": "markdown",
   "metadata": {},
   "source": [
    "### b)\n",
    "### Estimate the regression using the OLS method with heteroscedasticity\n",
    "### robust standard errors. Interpret $\\hat{\\beta_{1}}$. Is it statistically significant?"
   ]
  },
  {
   "cell_type": "code",
   "execution_count": 5,
   "metadata": {},
   "outputs": [],
   "source": [
    "# Estimate the model\n",
    "# Add the age^2 variable\n",
    "smoking_data.insert(3, \"age_sqrt\", smoking_data.age.apply(lambda x: np.power(x, 2)))\n",
    "# use heteroscedasticity robust standard errors and add constant intercept\n",
    "smoking_data.insert(1, \"constant_\", 1)"
   ]
  },
  {
   "cell_type": "code",
   "execution_count": 6,
   "metadata": {},
   "outputs": [
    {
     "name": "stdout",
     "output_type": "stream",
     "text": [
      "                            OLS Regression Results                            \n",
      "==============================================================================\n",
      "Dep. Variable:                 smoker   R-squared:                       0.052\n",
      "Model:                            OLS   Adj. R-squared:                  0.051\n",
      "Method:                 Least Squares   F-statistic:                     80.51\n",
      "Date:                Sun, 11 Feb 2024   Prob (F-statistic):          1.35e-129\n",
      "Time:                        15:45:09   Log-Likelihood:                -5449.7\n",
      "No. Observations:               10000   AIC:                         1.092e+04\n",
      "Df Residuals:                    9991   BIC:                         1.098e+04\n",
      "Df Model:                           8                                         \n",
      "Covariance Type:                  HC2                                         \n",
      "==============================================================================\n",
      "                 coef    std err          z      P>|z|      [0.025      0.975]\n",
      "------------------------------------------------------------------------------\n",
      "constant_     -0.0269      0.042     -0.647      0.518      -0.108       0.055\n",
      "smkban        -0.0481      0.009     -5.349      0.000      -0.066      -0.030\n",
      "age            0.0098      0.002      5.134      0.000       0.006       0.013\n",
      "age_sqrt      -0.0001   2.19e-05     -5.887      0.000      -0.000   -8.61e-05\n",
      "hsdrop         0.2822      0.019     15.098      0.000       0.246       0.319\n",
      "hsgrad         0.2246      0.012     17.997      0.000       0.200       0.249\n",
      "colsome        0.1556      0.013     12.440      0.000       0.131       0.180\n",
      "colgrad        0.0433      0.012      3.610      0.000       0.020       0.067\n",
      "female        -0.0321      0.009     -3.744      0.000      -0.049      -0.015\n",
      "==============================================================================\n",
      "Omnibus:                     1586.950   Durbin-Watson:                   1.869\n",
      "Prob(Omnibus):                  0.000   Jarque-Bera (JB):             2125.122\n",
      "Skew:                           1.097   Prob(JB):                         0.00\n",
      "Kurtosis:                       2.468   Cond. No.                     2.11e+04\n",
      "==============================================================================\n",
      "\n",
      "Notes:\n",
      "[1] Standard Errors are heteroscedasticity robust (HC2)\n",
      "[2] The condition number is large, 2.11e+04. This might indicate that there are\n",
      "strong multicollinearity or other numerical problems.\n"
     ]
    }
   ],
   "source": [
    "lin_reg = sm.regression.linear_model.OLS(endog=smoking_data[\"smoker\"], exog=smoking_data[smoking_data.columns[1:]])\n",
    "lin_reg_fit = lin_reg.fit(cov_type=\"HC2\")\n",
    "print(lin_reg_fit.summary())"
   ]
  },
  {
   "cell_type": "markdown",
   "metadata": {},
   "source": [
    "### Interpret beta_hat_1\n",
    "### beta_hat_1 captures the effect of an existing smoking ban at the work place\n",
    "### Remember this variable was binary"
   ]
  },
  {
   "cell_type": "code",
   "execution_count": 8,
   "metadata": {},
   "outputs": [
    {
     "name": "stdout",
     "output_type": "stream",
     "text": [
      "-0.048\n"
     ]
    }
   ],
   "source": [
    "print(round(lin_reg_fit.params[\"smkban\"], 3))"
   ]
  },
  {
   "cell_type": "markdown",
   "metadata": {},
   "source": [
    "### H0: measures at the work place banning smoking have no effect on becoming a smoker, βˆ1 is equal to 0\n",
    "### H1: measures indeed have an effect, βˆ1 != 0\n",
    "\n",
    "### - If we look purely on the p-value of 0.000 we would argue that its statistically\n",
    "### significant, since its below the significance level of 0.05 and even 0.01. So we\n",
    "### have statistical evidence to reject our H0 (less smoking with smoking ban).\n",
    "### - On the other hand the coefficient is -0.048052, so smoking measures in place\n",
    "### at the work area decrease the predicted probability of being a smoker by 4.8052 %.\n",
    "### In absolute terms this is a quiet small magnitude. Rendering the effect strength of the measures taken questionable.\n",
    "\n",
    "### --> Statistically relevant BUT practical importance will be dependent of the study and scale of variable involved."
   ]
  },
  {
   "cell_type": "code",
   "execution_count": 9,
   "metadata": {},
   "outputs": [
    {
     "name": "stdout",
     "output_type": "stream",
     "text": [
      "                             Test for Constraints                             \n",
      "==============================================================================\n",
      "                 coef    std err          t      P>|t|      [0.025      0.975]\n",
      "------------------------------------------------------------------------------\n",
      "c0            -0.0481      0.009     -5.349      0.000      -0.066      -0.030\n",
      "==============================================================================\n"
     ]
    }
   ],
   "source": [
    "hypothesis_0 = \"smkban = 0\"\n",
    "t_test_smkban = lin_reg_fit.t_test(hypothesis_0, use_t=True)\n",
    "print(t_test_smkban)"
   ]
  },
  {
   "cell_type": "markdown",
   "metadata": {},
   "source": [
    "### p-value: 0.000\n",
    "### Since the p-value is < 0.05 and even <0.01 we have to reject the H0 Hypothesis\n",
    "### that the estimated beta parameter for the variable smkban is 0 or insignificant"
   ]
  },
  {
   "cell_type": "code",
   "execution_count": null,
   "metadata": {},
   "outputs": [],
   "source": [
    "z_score = ((0 - lin_reg_fit.params[\"smkban\"]) / t_test_smkban.summary_frame()[\"std err\"])\n",
    "st.norm.pdf(z_score)\n",
    "# Compare t value with critical value for test decision\n",
    "abs(t_test_smkban.summary_frame()[\"t\"])"
   ]
  },
  {
   "cell_type": "code",
   "execution_count": 9,
   "metadata": {},
   "outputs": [
    {
     "data": {
      "image/png": "[encoded data removed]",
      "text/plain": [
       "<Figure size 640x480 with 1 Axes>"
      ]
     },
     "metadata": {},
     "output_type": "display_data"
    }
   ],
   "source": [
    "plt.plot(smoking_data.index, smoking_data.smoker, \"o\")\n",
    "plt.plot(smoking_data.index, lin_reg_fit.fittedvalues, \"ro\")\n",
    "plt.title(\"True values vs. Model fitted values\", fontsize=12)\n",
    "plt.xlabel(f\"Data Point index, N: {smoking_data.shape[0]}\")\n",
    "plt.ylabel(\"True value vs. fit\")\n",
    "plt.show()"
   ]
  },
  {
   "cell_type": "markdown",
   "metadata": {},
   "source": [
    "### c)\n",
    "### Does the probability of smoking increase or decre- ase with the level of education?\n",
    "### Observe the educational related variables: hsdrop, hsgrad, colsome, colgrad,"
   ]
  },
  {
   "cell_type": "code",
   "execution_count": null,
   "metadata": {},
   "outputs": [],
   "source": [
    "print(lin_reg_fit.summary())"
   ]
  },
  {
   "cell_type": "markdown",
   "metadata": {},
   "source": [
    "### Observing the educational related variables inlcuded in the model, one can see\n",
    "### the following trend: \n",
    "### the higher the education of an individual the less likely or the smaller the chance\n",
    "### that this individual is a smoker, but all estimated parameters are positive\n",
    "### as high school drop outs have an effect of 0.2821909, high school grads: 0.2245546\n",
    "### attended a college: 0.1556154 and finally college grads are least likely ending up\n",
    "### as a smoker with: 0.0433244\n",
    "### where the effect or absolute difference is biggest between attended college and\n",
    "### the college grads, so finishing college is advised\n",
    "\n",
    "### --> Model implies higher probability for hsfropouts than for graduates"
   ]
  },
  {
   "cell_type": "code",
   "execution_count": 12,
   "metadata": {},
   "outputs": [
    {
     "name": "stdout",
     "output_type": "stream",
     "text": [
      "constant_         NaN\n",
      "smkban       0.021180\n",
      "age          0.057812\n",
      "age_sqrt     0.009889\n",
      "hsdrop       0.282320\n",
      "hsgrad       0.057636\n",
      "colsome      0.068939\n",
      "colgrad      0.112291\n",
      "female       0.075457\n",
      "dtype: float64\n"
     ]
    }
   ],
   "source": [
    "print(abs(lin_reg_fit.params.diff()))"
   ]
  },
  {
   "cell_type": "markdown",
   "metadata": {},
   "source": [
    "### H0 Hypothesis: hsdrop and hsgrad have the same effect on smoker: hsdrop = hsgrad\n",
    "### test if hsdrop and hsgrad have the same effect for the smoking probability\n",
    "### Wald test"
   ]
  },
  {
   "cell_type": "code",
   "execution_count": 10,
   "metadata": {},
   "outputs": [
    {
     "name": "stdout",
     "output_type": "stream",
     "text": [
      "[[10.2478391]]\n"
     ]
    },
    {
     "name": "stderr",
     "output_type": "stream",
     "text": [
      "/Library/Frameworks/Python.framework/Versions/3.8/lib/python3.8/site-packages/statsmodels/base/model.py:1906: FutureWarning: The behavior of wald_test will change after 0.14 to returning scalar test statistic values. To get the future behavior now, set scalar to True. To silence this message while retaining the legacy behavior, set scalar to False.\n",
      "  warnings.warn(\n"
     ]
    }
   ],
   "source": [
    "hypothesis_0 = ' = '.join([\"hsdrop\", \"hsgrad\"])\n",
    "wald_test = lin_reg_fit.wald_test(hypothesis_0)\n",
    "print(wald_test.statistic)"
   ]
  },
  {
   "cell_type": "markdown",
   "metadata": {},
   "source": [
    "### chi2 statistic: 10.2478391\n",
    "### p-value: 0.0013684480785456001\n",
    "### - H0: hsdrop = hsgrad (they are equal)\n",
    "### - H1: hsdrop, hsgrad have different effects\n",
    "\n",
    "### - Result: We reject the H0 --> F = 10.25 and p-value 0.0014 (less than 0.05 and even 0.01)\n",
    "### - So both variables are statistically significantly different from each other"
   ]
  },
  {
   "cell_type": "markdown",
   "metadata": {},
   "source": [
    "### d)\n",
    "### Predict with fitted model and interprete"
   ]
  },
  {
   "cell_type": "code",
   "execution_count": null,
   "metadata": {},
   "outputs": [],
   "source": [
    "smkban_pred = 1\n",
    "age_pred = 70\n",
    "age_sqrt_pred = np.power(age_pred, 2)\n",
    "hsdrop_pred, hsgrad_pred, colsome_pred = 0, 0, 0\n",
    "colgrad_pred = 1\n",
    "female_pred = 1"
   ]
  },
  {
   "cell_type": "code",
   "execution_count": null,
   "metadata": {},
   "outputs": [],
   "source": [
    "# Keep the correct order\n",
    "smoking_data[smoking_data.columns[1:]]\n",
    "\n",
    "x_pred = [1, smkban_pred, age_pred, age_sqrt_pred, hsdrop_pred, hsgrad_pred, colsome_pred, colgrad_pred, female_pred]\n",
    "\n",
    "y_pred = lin_reg_fit.predict(x_pred)\n",
    "y_pred\n",
    "# -0.01326874"
   ]
  },
  {
   "cell_type": "markdown",
   "metadata": {},
   "source": [
    "### - smoking measures in place at the work area decrease the predicted probability\n",
    "###   of being a smoker for this individual specified, by roughly 1.32 %\n",
    "\n",
    "### Problems:\n",
    "### - We only assume linear relationship of predictor and regressor\n",
    "### - Especially the positvie coefficient of education may suggest a more complex relationship --> not     \tconsidered here\n",
    "### - Predicted probability isn't standardized -> Can yield values above 1 o below 0"
   ]
  },
  {
   "cell_type": "code",
   "execution_count": 14,
   "metadata": {},
   "outputs": [
    {
     "name": "stdout",
     "output_type": "stream",
     "text": [
      "      smoker  constant_  smkban  age  age_sqrt  hsdrop  hsgrad  colsome  \\\n",
      "131        0          1       1   76      5776       0       0        1   \n",
      "169        0          1       0   76      5776       1       0        0   \n",
      "196        0          1       1   78      6084       0       0        0   \n",
      "203        0          1       0   71      5041       0       1        0   \n",
      "275        0          1       0   78      6084       0       1        0   \n",
      "...      ...        ...     ...  ...       ...     ...     ...      ...   \n",
      "9096       0          1       0   75      5625       0       1        0   \n",
      "9204       0          1       0   74      5476       0       0        1   \n",
      "9220       0          1       0   74      5476       0       1        0   \n",
      "9288       0          1       1   73      5329       1       0        0   \n",
      "9921       1          1       1   72      5184       0       1        0   \n",
      "\n",
      "      colgrad  female  \n",
      "131         0       1  \n",
      "169         0       0  \n",
      "196         0       1  \n",
      "203         0       1  \n",
      "275         0       1  \n",
      "...       ...     ...  \n",
      "9096        0       1  \n",
      "9204        0       0  \n",
      "9220        0       1  \n",
      "9288        0       0  \n",
      "9921        0       1  \n",
      "\n",
      "[103 rows x 10 columns]\n",
      "(15, 10)\n"
     ]
    }
   ],
   "source": [
    "# Linear probability model is not appropriate in this case\n",
    "print(smoking_data.query(\"age >= 70\"))\n",
    "# 103 rows out of 10000 records\n",
    "print(smoking_data.query(\"age >= 70 and smoker == 1\").shape)"
   ]
  },
  {
   "cell_type": "markdown",
   "metadata": {},
   "source": [
    "### 15 records ou of the >= 70s that smoke\n",
    "### and only two are college grads\n",
    "### So these given settings represent an extreme case where the trained linear model\n",
    "### with its average effect might lead to insufficient accuracy "
   ]
  },
  {
   "cell_type": "markdown",
   "metadata": {},
   "source": [
    "# Execise 2)\n",
    "### a)\n",
    "### average partial effects of smoking ban on probability of smoking using i) probit and ii) logit model\n",
    "### i) Probit Model"
   ]
  },
  {
   "cell_type": "code",
   "execution_count": 12,
   "metadata": {},
   "outputs": [
    {
     "name": "stdout",
     "output_type": "stream",
     "text": [
      "Optimization terminated successfully.\n",
      "         Current function value: 0.526228\n",
      "         Iterations 6\n",
      "       Probit Marginal Effects       \n",
      "=====================================\n",
      "Dep. Variable:                 smoker\n",
      "Method:                          dydx\n",
      "At:                              mean\n",
      "==============================================================================\n",
      "                dy/dx    std err          z      P>|z|      [0.025      0.975]\n",
      "------------------------------------------------------------------------------\n",
      "smkban        -0.0485      0.009     -5.533      0.000      -0.066      -0.031\n",
      "age            0.0104      0.002      4.979      0.000       0.006       0.015\n",
      "age_sqrt      -0.0001    2.5e-05     -5.506      0.000      -0.000   -8.87e-05\n",
      "hsdrop         0.3071      0.021     14.713      0.000       0.266       0.348\n",
      "hsgrad         0.2597      0.018     14.567      0.000       0.225       0.295\n",
      "colsome        0.1972      0.018     10.809      0.000       0.161       0.233\n",
      "colgrad        0.0694      0.020      3.529      0.000       0.031       0.108\n",
      "female        -0.0320      0.009     -3.673      0.000      -0.049      -0.015\n",
      "==============================================================================\n"
     ]
    }
   ],
   "source": [
    "probit_mod = sm.Probit(endog=smoking_data[\"smoker\"], exog=smoking_data[smoking_data.columns[1:]])\n",
    "probit_mod_fit = probit_mod.fit()\n",
    "probit_mod_fit.summary()\n",
    "# Average Partial Effect (APE)\n",
    "probit_mod_ape = probit_mod_fit.get_margeff(at=\"mean\", method=\"dydx\", atexog=\"smkban\")\n",
    "# estimate: smkban: -0.0485\n",
    "print(probit_mod_ape.summary())\n",
    "# 'dydx' - change in `endog` for a change in `exog`\n",
    "# mkban: -0.0485"
   ]
  },
  {
   "cell_type": "markdown",
   "metadata": {},
   "source": [
    "### ii) Logit Model"
   ]
  },
  {
   "cell_type": "code",
   "execution_count": 13,
   "metadata": {},
   "outputs": [
    {
     "name": "stdout",
     "output_type": "stream",
     "text": [
      "Optimization terminated successfully.\n",
      "         Current function value: 0.526216\n",
      "         Iterations 6\n",
      "        Logit Marginal Effects       \n",
      "=====================================\n",
      "Dep. Variable:                 smoker\n",
      "Method:                          dydx\n",
      "At:                              mean\n",
      "==============================================================================\n",
      "                dy/dx    std err          z      P>|z|      [0.025      0.975]\n",
      "------------------------------------------------------------------------------\n",
      "smkban        -0.0464      0.009     -5.406      0.000      -0.063      -0.030\n",
      "age            0.0104      0.002      4.992      0.000       0.006       0.014\n",
      "age_sqrt      -0.0001    2.5e-05     -5.511      0.000      -0.000   -8.89e-05\n",
      "hsdrop         0.3120      0.022     14.294      0.000       0.269       0.355\n",
      "hsgrad         0.2676      0.019     13.787      0.000       0.230       0.306\n",
      "colsome        0.2067      0.020     10.368      0.000       0.168       0.246\n",
      "colgrad        0.0765      0.022      3.491      0.000       0.034       0.119\n",
      "female        -0.0317      0.009     -3.700      0.000      -0.048      -0.015\n",
      "==============================================================================\n"
     ]
    }
   ],
   "source": [
    "logit_mod = sm.Logit(endog=smoking_data[\"smoker\"], exog=smoking_data[smoking_data.columns[1:]])\n",
    "logit_mod_fit = logit_mod.fit()\n",
    "logit_mod_fit.summary()\n",
    "# Average Partial Effect (APE)\n",
    "logit_mod_ape = logit_mod_fit.get_margeff(at=\"mean\", method=\"dydx\", atexog=\"smkban\")\n",
    "# estimate: smkban: 0.2652\n",
    "print(logit_mod_ape.summary())\n",
    "# 'dydx' - change in `endog` for a change in `exog`\n",
    "# mkban: -0.0464"
   ]
  },
  {
   "cell_type": "markdown",
   "metadata": {},
   "source": [
    "### Effect statistically significant?"
   ]
  },
  {
   "cell_type": "markdown",
   "metadata": {},
   "source": [
    "### Display the results side by side in a comparison table"
   ]
  },
  {
   "cell_type": "code",
   "execution_count": 14,
   "metadata": {},
   "outputs": [
    {
     "name": "stdout",
     "output_type": "stream",
     "text": [
      "                   Average Partiial Effects (APE)\n",
      "Linear Regression                       -0.048052\n",
      "Logit Model                             -0.046367\n",
      "Probit Model                            -0.048487\n"
     ]
    }
   ],
   "source": [
    "param = \"smkban\"\n",
    "lin_reg_eff = lin_reg_fit.params[param]\n",
    "logit_eff = logit_mod_ape.summary_frame().loc[param, \"dy/dx\"]\n",
    "probit_eff = probit_mod_ape.summary_frame().loc[param, \"dy/dx\"]\n",
    "\n",
    "comp_eff_df = pd.DataFrame(index=[\"Linear Regression\", \"Logit Model\", \"Probit Model\"],\n",
    "                           data=[lin_reg_eff, logit_eff, probit_eff],\n",
    "                           columns=[\"Average Partiial Effects (APE)\"])\n",
    "print(comp_eff_df)"
   ]
  },
  {
   "cell_type": "markdown",
   "metadata": {},
   "source": [
    "# H0: The APE is not relevant, it should be 0\n",
    "# H1: The APE is relevant and has an effect, it shoud be !=0\n",
    "\n",
    "# Result: Since the p-value is 0.000 what is <0.05 and even 0.01, we reject the H0\n",
    "# \t\tthat the APE is not relevant, i.e. being equal to 0\n",
    "\n",
    "# Interpretation: the estimated average change in the probability of being a smoker is reduced by 4.81%"
   ]
  },
  {
   "cell_type": "markdown",
   "metadata": {},
   "source": [
    "### b)\n",
    "### Probit Model to calculate the effect for groups specified\n",
    "### Estimate the model new for the groups or predict for the groups?"
   ]
  },
  {
   "cell_type": "markdown",
   "metadata": {},
   "source": [
    "### i) male, 40 years old, college graduate."
   ]
  },
  {
   "cell_type": "code",
   "execution_count": 16,
   "metadata": {},
   "outputs": [
    {
     "name": "stdout",
     "output_type": "stream",
     "text": [
      "[0.03986644]\n"
     ]
    }
   ],
   "source": [
    "# Set the testing variables\n",
    "constant = 1\n",
    "smkban_i = 0\n",
    "age_i = 40\n",
    "age_sqrt_i = age_i**2\n",
    "hsdrop_i = 0\n",
    "hsgrad_i = 0\n",
    "colsome_i = 0\n",
    "colgrad_i = 1\n",
    "female_i = 0\n",
    "\n",
    "# Baseline Situation with no smoking ban in place\n",
    "probit_mod_fit.get_prediction(exog=[constant, smkban_i, age_i, age_sqrt_i, hsdrop_i, hsgrad_i, colsome_i, colgrad_i, female_i]).summary_frame()\n",
    "base_i = probit_mod_fit.get_prediction(exog=[constant, smkban_i, age_i, age_sqrt_i, hsdrop_i, hsgrad_i, colsome_i, colgrad_i, female_i]).predicted\n",
    "# 0.18671\n",
    "\n",
    "# Situation when a smoking ban is introduced\n",
    "probit_mod_fit.get_prediction(exog=[constant, 1, age_i, age_sqrt_i, hsdrop_i, hsgrad_i, colsome_i, colgrad_i, female_i]).summary_frame()\n",
    "ban_i = probit_mod_fit.get_prediction(exog=[constant, 1, age_i, age_sqrt_i, hsdrop_i, hsgrad_i, colsome_i, colgrad_i, female_i]).predicted\n",
    "# 0.146843\n",
    "\n",
    "# Effect strenth as difference\n",
    "print(base_i - ban_i)\n",
    "# 0.03986644"
   ]
  },
  {
   "cell_type": "markdown",
   "metadata": {},
   "source": [
    "### ii) female, 20 years old, high school dropout."
   ]
  },
  {
   "cell_type": "code",
   "execution_count": 17,
   "metadata": {},
   "outputs": [
    {
     "name": "stdout",
     "output_type": "stream",
     "text": [
      "[0.05802279]\n"
     ]
    }
   ],
   "source": [
    "# ii) female, 20 years old, high school dropout.\n",
    "constant = 1\n",
    "smkban_ii = 0\n",
    "age_ii = 20\n",
    "age_sqrt_ii = age_ii**2\n",
    "hsdrop_ii = 1\n",
    "hsgrad_ii = 0\n",
    "colsome_ii = 0\n",
    "colgrad_ii = 0\n",
    "female_ii = 1\n",
    "\n",
    "# Baseline Situation with no smoking ban in place\n",
    "probit_mod_fit.get_prediction(exog=[constant, smkban_ii, age_ii, age_sqrt_ii, hsdrop_ii, hsgrad_ii, colsome_ii, colgrad_ii, female_ii]).summary_frame()\n",
    "base_ii = probit_mod_fit.get_prediction(exog=[constant, smkban_ii, age_ii, age_sqrt_ii, hsdrop_ii, hsgrad_ii, colsome_ii, colgrad_ii, female_ii]).predicted\n",
    "# 0.361454\n",
    "\n",
    "# Situation when a smoking ban is introduced\n",
    "probit_mod_fit.get_prediction(exog=[constant, 1, age_ii, age_sqrt_ii, hsdrop_ii, hsgrad_ii, colsome_ii, colgrad_ii, female_ii]).summary_frame()\n",
    "ban_ii = probit_mod_fit.get_prediction(exog=[constant, 1, age_ii, age_sqrt_ii, hsdrop_ii, hsgrad_ii, colsome_ii, colgrad_ii, female_ii]).predicted\n",
    "# 0.303431\n",
    "\n",
    "# Effect strenth as difference\n",
    "print(base_ii - ban_ii)\n",
    "# 0.05802279"
   ]
  },
  {
   "cell_type": "code",
   "execution_count": 18,
   "metadata": {},
   "outputs": [
    {
     "name": "stdout",
     "output_type": "stream",
     "text": [
      "Predicted Probability of a male, 40 Years Old, College Graduate without Smoking Ban: 0.187\n",
      "Predicted Probability of a male, 40 Years Old, College Graduate with Smoking Ban: 0.147\n",
      "Effect of Smoking Ban on Smoking Probability for Males: 0.04\n",
      "Predicted Probability of a female, 20 Years Old, High School Dropout without Smoking Ban: 0.361\n",
      "Predicted Probability of a female, 20 Years Old, High School Dropouts with Smoking Ban: 0.303\n",
      "Effect of Smoking Ban on Smoking Probability for Females: 0.058\n",
      "   predicted        se  ci_lower  ci_upper  Effect_strength\n",
      "0   0.186710  0.011672  0.164705  0.210446              NaN\n",
      "1   0.146843  0.009470  0.129065  0.166193        -0.039866\n",
      "   predicted        se  ci_lower  ci_upper  Effect_strength\n",
      "0   0.361454  0.021449  0.320326  0.404250              NaN\n",
      "1   0.303431  0.020233  0.264993  0.344178        -0.058023\n"
     ]
    }
   ],
   "source": [
    "# For Male, 40, College Graduate\n",
    "print(f\"Predicted Probability of a male, 40 Years Old, College Graduate without Smoking Ban: {round(base_i[0], 3)}\")\n",
    "print(f\"Predicted Probability of a male, 40 Years Old, College Graduate with Smoking Ban: {round(ban_i[0], 3)}\")\n",
    "print(f\"Effect of Smoking Ban on Smoking Probability for Males: {round(base_i[0] - ban_i[0], 3)}\")\n",
    "\n",
    "# Explanation:\n",
    "# Among 40-year-old males who are college graduates, the probability of smoking in the workplace\n",
    "# without any measures taken is 18.67%. However, if a smoking ban is implemented, this probability decreases to\n",
    "# 14.68%. Consequently, the smoking ban results in a reduction of smoking probability by 3.9% within this specific demographic group.\n",
    "\n",
    "\n",
    "# For Female, 20, High School Dropout\n",
    "print(f\"Predicted Probability of a female, 20 Years Old, High School Dropout without Smoking Ban: {round(base_ii[0], 3)}\")\n",
    "print(f\"Predicted Probability of a female, 20 Years Old, High School Dropouts with Smoking Ban: {round(ban_ii[0], 3)}\")\n",
    "print(f\"Effect of Smoking Ban on Smoking Probability for Females: {round(base_ii[0] - ban_ii[0], 3)}\")\n",
    "\n",
    "# Explanation:\n",
    "# For 20-year-old females who are high school dropouts, the lprobability of smoking in the workplace without any\n",
    "# measures taken is 36.14%. If a smoking ban is implemented, this probability decreases to 30.34%. Consequently,\n",
    "# the smoking ban results in a reduction of smoking probability by 5.8% within this specific demographic group.\n",
    "\n",
    "\n",
    "# Final Comparison\n",
    "base_i_df = probit_mod_fit.get_prediction(exog=[constant, smkban_i, age_i, age_sqrt_i, hsdrop_i, hsgrad_i, colsome_i, colgrad_i, female_i]).summary_frame()\n",
    "ban_i_df = probit_mod_fit.get_prediction(exog=[constant, 1, age_i, age_sqrt_i, hsdrop_i, hsgrad_i, colsome_i, colgrad_i, female_i]).summary_frame()\n",
    "i_df = pd.concat([base_i_df, ban_i_df]).reset_index(drop=True)\n",
    "i_df[\"Effect_strength\"] = i_df.predicted.diff()\n",
    "print(i_df)\n",
    "\n",
    "base_ii_df = probit_mod_fit.get_prediction(exog=[constant, smkban_ii, age_ii, age_sqrt_ii, hsdrop_ii, hsgrad_ii, colsome_ii, colgrad_ii, female_ii]).summary_frame()\n",
    "ban_ii_df = probit_mod_fit.get_prediction(exog=[constant, 1, age_ii, age_sqrt_ii, hsdrop_ii, hsgrad_ii, colsome_ii, colgrad_ii, female_ii]).summary_frame()\n",
    "\n",
    "ii_df = pd.concat([base_ii_df, ban_ii_df]).reset_index(drop=True)\n",
    "ii_df[\"Effect_strength\"] = ii_df.predicted.diff()\n",
    "print(ii_df)"
   ]
  }
 ],
 "metadata": {
  "kernelspec": {
   "display_name": "Python 3",
   "language": "python",
   "name": "python3"
  },
  "language_info": {
   "codemirror_mode": {
    "name": "ipython",
    "version": 3
   },
   "file_extension": ".py",
   "mimetype": "text/x-python",
   "name": "python",
   "nbconvert_exporter": "python",
   "pygments_lexer": "ipython3",
   "version": "3.8.2"
  }
 },
 "nbformat": 4,
 "nbformat_minor": 2
}
