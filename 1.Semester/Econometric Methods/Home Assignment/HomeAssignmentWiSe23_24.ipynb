{
 "cells": [
  {
   "cell_type": "markdown",
   "metadata": {},
   "source": [
    "# Econometric Methods WiSe 2023/2024 Home Assignment"
   ]
  },
  {
   "cell_type": "markdown",
   "metadata": {},
   "source": [
    "## Group Members\n",
    "* Josef Fella, stu\n",
    "* Robert Hennings, stu236320"
   ]
  },
  {
   "cell_type": "code",
   "execution_count": 6,
   "metadata": {},
   "outputs": [
    {
     "name": "stdout",
     "output_type": "stream",
     "text": [
      "Loaded data successfully with shape: (10000, 8)\n"
     ]
    }
   ],
   "source": [
    "# Load the data\n",
    "import pandas as pd\n",
    "import numpy as np\n",
    "import statsmodels.api as sm\n",
    "import statsmodels.formula.api as smf\n",
    "import matplotlib.pyplot as plt\n",
    "import scipy.stats as st\n",
    "path = r\"/Users/Robert_Hennings/Dokumente/Uni/Master/3.Semester/Econometric Methods/Home Assignment/\"\n",
    "data_file = \"HA_smoking.dta\"\n",
    "smoking_data = pd.read_stata(path + data_file)\n",
    "print(f\"Loaded data successfully with shape: {smoking_data.shape}\")"
   ]
  },
  {
   "cell_type": "markdown",
   "metadata": {},
   "source": [
    "## Exercise 1)"
   ]
  },
  {
   "cell_type": "markdown",
   "metadata": {},
   "source": [
    "### a)\n",
    "### Import and briefly describe the dataset."
   ]
  },
  {
   "cell_type": "code",
   "execution_count": 7,
   "metadata": {},
   "outputs": [
    {
     "data": {
      "text/html": [
       "<div>\n",
       "<style scoped>\n",
       "    .dataframe tbody tr th:only-of-type {\n",
       "        vertical-align: middle;\n",
       "    }\n",
       "\n",
       "    .dataframe tbody tr th {\n",
       "        vertical-align: top;\n",
       "    }\n",
       "\n",
       "    .dataframe thead th {\n",
       "        text-align: right;\n",
       "    }\n",
       "</style>\n",
       "<table border=\"1\" class=\"dataframe\">\n",
       "  <thead>\n",
       "    <tr style=\"text-align: right;\">\n",
       "      <th></th>\n",
       "      <th>smoker</th>\n",
       "      <th>smkban</th>\n",
       "      <th>age</th>\n",
       "      <th>hsdrop</th>\n",
       "      <th>hsgrad</th>\n",
       "      <th>colsome</th>\n",
       "      <th>colgrad</th>\n",
       "      <th>female</th>\n",
       "    </tr>\n",
       "  </thead>\n",
       "  <tbody>\n",
       "    <tr>\n",
       "      <th>0</th>\n",
       "      <td>1</td>\n",
       "      <td>1</td>\n",
       "      <td>41</td>\n",
       "      <td>0</td>\n",
       "      <td>1</td>\n",
       "      <td>0</td>\n",
       "      <td>0</td>\n",
       "      <td>1</td>\n",
       "    </tr>\n",
       "    <tr>\n",
       "      <th>1</th>\n",
       "      <td>1</td>\n",
       "      <td>1</td>\n",
       "      <td>44</td>\n",
       "      <td>0</td>\n",
       "      <td>0</td>\n",
       "      <td>1</td>\n",
       "      <td>0</td>\n",
       "      <td>1</td>\n",
       "    </tr>\n",
       "    <tr>\n",
       "      <th>2</th>\n",
       "      <td>0</td>\n",
       "      <td>0</td>\n",
       "      <td>19</td>\n",
       "      <td>0</td>\n",
       "      <td>0</td>\n",
       "      <td>1</td>\n",
       "      <td>0</td>\n",
       "      <td>1</td>\n",
       "    </tr>\n",
       "    <tr>\n",
       "      <th>3</th>\n",
       "      <td>1</td>\n",
       "      <td>0</td>\n",
       "      <td>29</td>\n",
       "      <td>0</td>\n",
       "      <td>1</td>\n",
       "      <td>0</td>\n",
       "      <td>0</td>\n",
       "      <td>1</td>\n",
       "    </tr>\n",
       "    <tr>\n",
       "      <th>4</th>\n",
       "      <td>0</td>\n",
       "      <td>1</td>\n",
       "      <td>28</td>\n",
       "      <td>0</td>\n",
       "      <td>0</td>\n",
       "      <td>1</td>\n",
       "      <td>0</td>\n",
       "      <td>1</td>\n",
       "    </tr>\n",
       "    <tr>\n",
       "      <th>5</th>\n",
       "      <td>0</td>\n",
       "      <td>0</td>\n",
       "      <td>40</td>\n",
       "      <td>0</td>\n",
       "      <td>0</td>\n",
       "      <td>1</td>\n",
       "      <td>0</td>\n",
       "      <td>0</td>\n",
       "    </tr>\n",
       "    <tr>\n",
       "      <th>6</th>\n",
       "      <td>1</td>\n",
       "      <td>1</td>\n",
       "      <td>47</td>\n",
       "      <td>0</td>\n",
       "      <td>0</td>\n",
       "      <td>1</td>\n",
       "      <td>0</td>\n",
       "      <td>1</td>\n",
       "    </tr>\n",
       "    <tr>\n",
       "      <th>7</th>\n",
       "      <td>1</td>\n",
       "      <td>0</td>\n",
       "      <td>36</td>\n",
       "      <td>0</td>\n",
       "      <td>0</td>\n",
       "      <td>1</td>\n",
       "      <td>0</td>\n",
       "      <td>0</td>\n",
       "    </tr>\n",
       "    <tr>\n",
       "      <th>8</th>\n",
       "      <td>0</td>\n",
       "      <td>1</td>\n",
       "      <td>49</td>\n",
       "      <td>0</td>\n",
       "      <td>0</td>\n",
       "      <td>1</td>\n",
       "      <td>0</td>\n",
       "      <td>1</td>\n",
       "    </tr>\n",
       "    <tr>\n",
       "      <th>9</th>\n",
       "      <td>0</td>\n",
       "      <td>0</td>\n",
       "      <td>44</td>\n",
       "      <td>0</td>\n",
       "      <td>0</td>\n",
       "      <td>1</td>\n",
       "      <td>0</td>\n",
       "      <td>0</td>\n",
       "    </tr>\n",
       "    <tr>\n",
       "      <th>10</th>\n",
       "      <td>0</td>\n",
       "      <td>0</td>\n",
       "      <td>33</td>\n",
       "      <td>0</td>\n",
       "      <td>0</td>\n",
       "      <td>1</td>\n",
       "      <td>0</td>\n",
       "      <td>1</td>\n",
       "    </tr>\n",
       "    <tr>\n",
       "      <th>11</th>\n",
       "      <td>0</td>\n",
       "      <td>0</td>\n",
       "      <td>49</td>\n",
       "      <td>0</td>\n",
       "      <td>1</td>\n",
       "      <td>0</td>\n",
       "      <td>0</td>\n",
       "      <td>1</td>\n",
       "    </tr>\n",
       "    <tr>\n",
       "      <th>12</th>\n",
       "      <td>0</td>\n",
       "      <td>1</td>\n",
       "      <td>28</td>\n",
       "      <td>0</td>\n",
       "      <td>0</td>\n",
       "      <td>1</td>\n",
       "      <td>0</td>\n",
       "      <td>0</td>\n",
       "    </tr>\n",
       "    <tr>\n",
       "      <th>13</th>\n",
       "      <td>0</td>\n",
       "      <td>1</td>\n",
       "      <td>32</td>\n",
       "      <td>0</td>\n",
       "      <td>0</td>\n",
       "      <td>1</td>\n",
       "      <td>0</td>\n",
       "      <td>0</td>\n",
       "    </tr>\n",
       "    <tr>\n",
       "      <th>14</th>\n",
       "      <td>0</td>\n",
       "      <td>1</td>\n",
       "      <td>29</td>\n",
       "      <td>0</td>\n",
       "      <td>0</td>\n",
       "      <td>1</td>\n",
       "      <td>0</td>\n",
       "      <td>1</td>\n",
       "    </tr>\n",
       "    <tr>\n",
       "      <th>15</th>\n",
       "      <td>0</td>\n",
       "      <td>0</td>\n",
       "      <td>47</td>\n",
       "      <td>0</td>\n",
       "      <td>1</td>\n",
       "      <td>0</td>\n",
       "      <td>0</td>\n",
       "      <td>0</td>\n",
       "    </tr>\n",
       "    <tr>\n",
       "      <th>16</th>\n",
       "      <td>0</td>\n",
       "      <td>1</td>\n",
       "      <td>36</td>\n",
       "      <td>0</td>\n",
       "      <td>0</td>\n",
       "      <td>1</td>\n",
       "      <td>0</td>\n",
       "      <td>1</td>\n",
       "    </tr>\n",
       "    <tr>\n",
       "      <th>17</th>\n",
       "      <td>0</td>\n",
       "      <td>1</td>\n",
       "      <td>48</td>\n",
       "      <td>0</td>\n",
       "      <td>0</td>\n",
       "      <td>1</td>\n",
       "      <td>0</td>\n",
       "      <td>1</td>\n",
       "    </tr>\n",
       "    <tr>\n",
       "      <th>18</th>\n",
       "      <td>1</td>\n",
       "      <td>1</td>\n",
       "      <td>28</td>\n",
       "      <td>0</td>\n",
       "      <td>0</td>\n",
       "      <td>1</td>\n",
       "      <td>0</td>\n",
       "      <td>1</td>\n",
       "    </tr>\n",
       "    <tr>\n",
       "      <th>19</th>\n",
       "      <td>1</td>\n",
       "      <td>1</td>\n",
       "      <td>24</td>\n",
       "      <td>0</td>\n",
       "      <td>0</td>\n",
       "      <td>1</td>\n",
       "      <td>0</td>\n",
       "      <td>0</td>\n",
       "    </tr>\n",
       "  </tbody>\n",
       "</table>\n",
       "</div>"
      ],
      "text/plain": [
       "    smoker  smkban  age  hsdrop  hsgrad  colsome  colgrad  female\n",
       "0        1       1   41       0       1        0        0       1\n",
       "1        1       1   44       0       0        1        0       1\n",
       "2        0       0   19       0       0        1        0       1\n",
       "3        1       0   29       0       1        0        0       1\n",
       "4        0       1   28       0       0        1        0       1\n",
       "5        0       0   40       0       0        1        0       0\n",
       "6        1       1   47       0       0        1        0       1\n",
       "7        1       0   36       0       0        1        0       0\n",
       "8        0       1   49       0       0        1        0       1\n",
       "9        0       0   44       0       0        1        0       0\n",
       "10       0       0   33       0       0        1        0       1\n",
       "11       0       0   49       0       1        0        0       1\n",
       "12       0       1   28       0       0        1        0       0\n",
       "13       0       1   32       0       0        1        0       0\n",
       "14       0       1   29       0       0        1        0       1\n",
       "15       0       0   47       0       1        0        0       0\n",
       "16       0       1   36       0       0        1        0       1\n",
       "17       0       1   48       0       0        1        0       1\n",
       "18       1       1   28       0       0        1        0       1\n",
       "19       1       1   24       0       0        1        0       0"
      ]
     },
     "execution_count": 7,
     "metadata": {},
     "output_type": "execute_result"
    }
   ],
   "source": [
    "smoking_data.head(20)"
   ]
  },
  {
   "cell_type": "code",
   "execution_count": 5,
   "metadata": {},
   "outputs": [
    {
     "name": "stdout",
     "output_type": "stream",
     "text": [
      "<class 'pandas.core.frame.DataFrame'>\n",
      "Int64Index: 10000 entries, 0 to 9999\n",
      "Data columns (total 8 columns):\n",
      " #   Column   Non-Null Count  Dtype\n",
      "---  ------   --------------  -----\n",
      " 0   smoker   10000 non-null  int8 \n",
      " 1   smkban   10000 non-null  int8 \n",
      " 2   age      10000 non-null  int8 \n",
      " 3   hsdrop   10000 non-null  int8 \n",
      " 4   hsgrad   10000 non-null  int8 \n",
      " 5   colsome  10000 non-null  int8 \n",
      " 6   colgrad  10000 non-null  int8 \n",
      " 7   female   10000 non-null  int8 \n",
      "dtypes: int8(8)\n",
      "memory usage: 156.2 KB\n"
     ]
    },
    {
     "data": {
      "image/png": "[encoded data removed]",
      "text/plain": [
       "<Figure size 640x480 with 1 Axes>"
      ]
     },
     "metadata": {},
     "output_type": "display_data"
    }
   ],
   "source": [
    "smoking_data.describe()\n",
    "smoking_data.info()\n",
    "smoking_data.isna().value_counts()\n",
    "\n",
    "# Look at the different class distributions in the base dataset\n",
    "# Genders in %\n",
    "(smoking_data.female.value_counts() / smoking_data.shape[0]) * 100\n",
    "# Gender representation seems to be quite \n",
    "\n",
    "# Age distribution\n",
    "(smoking_data.age.value_counts() / smoking_data.shape[0]) * 100\n",
    "\n",
    "# Looking at the educational variables\n",
    "educ_df = pd.DataFrame()\n",
    "for educ_var in smoking_data.columns[3:7]:\n",
    "    educ_df[educ_var] = smoking_data[educ_var].value_counts()\n",
    "\n",
    "# Class distribution\n",
    "plt.bar(x=smoking_data.columns[3:7], height=educ_df.loc[0], color=\"grey\", label=\"0: No dropout\")\n",
    "plt.bar(x=smoking_data.columns[3:7], height=educ_df.loc[1], color=\"#9b0a7d\", label=\"1: Dropout\")\n",
    "plt.title(f\"Educational Variables: Class Distribution of: {smoking_data.columns[3:7].to_list()}\", fontsize=10)\n",
    "plt.ylabel(\"Absolute Frequency\")\n",
    "plt.legend()\n",
    "plt.show()"
   ]
  },
  {
   "cell_type": "code",
   "execution_count": null,
   "metadata": {},
   "outputs": [],
   "source": [
    "# Class distribution of age\n",
    "plt.hist(smoking_data.age, bins=30, density=True, color=\"#9b0a7d\")\n",
    "plt.vlines(x=round(np.mean(smoking_data.age)), ymin=0, ymax= 0.050, color=\"black\", linewidth=1)\n",
    "plt.title(\"Histogram of Age\")\n",
    "plt.ylabel(\"Density\")\n",
    "plt.xlabel(\"Age Range\")\n",
    "plt.show()"
   ]
  },
  {
   "cell_type": "markdown",
   "metadata": {},
   "source": [
    "### b)\n",
    "### Estimate the regression using the OLS method with heteroscedasticity\n",
    "### robust standard errors. Interpret $\\hat{\\beta_{1}}$. Is it statistically significant?"
   ]
  },
  {
   "cell_type": "code",
   "execution_count": null,
   "metadata": {},
   "outputs": [],
   "source": [
    "# Estimate the model\n",
    "# Add the age^2 variable\n",
    "smoking_data.insert(3, \"age_sqrt\", smoking_data.age.apply(lambda x: np.power(x, 2)))\n",
    "# use heteroscedasticity robust standard errors and add constant intercept\n",
    "smoking_data.insert(1, \"constant_\", 1)"
   ]
  },
  {
   "cell_type": "code",
   "execution_count": 10,
   "metadata": {},
   "outputs": [
    {
     "name": "stdout",
     "output_type": "stream",
     "text": [
      "                            OLS Regression Results                            \n",
      "==============================================================================\n",
      "Dep. Variable:                 smoker   R-squared:                       0.052\n",
      "Model:                            OLS   Adj. R-squared:                  0.051\n",
      "Method:                 Least Squares   F-statistic:                     80.51\n",
      "Date:                Sun, 28 Jan 2024   Prob (F-statistic):          1.35e-129\n",
      "Time:                        15:31:31   Log-Likelihood:                -5449.7\n",
      "No. Observations:               10000   AIC:                         1.092e+04\n",
      "Df Residuals:                    9991   BIC:                         1.098e+04\n",
      "Df Model:                           8                                         \n",
      "Covariance Type:                  HC2                                         \n",
      "==============================================================================\n",
      "                 coef    std err          z      P>|z|      [0.025      0.975]\n",
      "------------------------------------------------------------------------------\n",
      "constant_     -0.0269      0.042     -0.647      0.518      -0.108       0.055\n",
      "smkban        -0.0481      0.009     -5.349      0.000      -0.066      -0.030\n",
      "age            0.0098      0.002      5.134      0.000       0.006       0.013\n",
      "age_sqrt      -0.0001   2.19e-05     -5.887      0.000      -0.000   -8.61e-05\n",
      "hsdrop         0.2822      0.019     15.098      0.000       0.246       0.319\n",
      "hsgrad         0.2246      0.012     17.997      0.000       0.200       0.249\n",
      "colsome        0.1556      0.013     12.440      0.000       0.131       0.180\n",
      "colgrad        0.0433      0.012      3.610      0.000       0.020       0.067\n",
      "female        -0.0321      0.009     -3.744      0.000      -0.049      -0.015\n",
      "==============================================================================\n",
      "Omnibus:                     1586.950   Durbin-Watson:                   1.869\n",
      "Prob(Omnibus):                  0.000   Jarque-Bera (JB):             2125.122\n",
      "Skew:                           1.097   Prob(JB):                         0.00\n",
      "Kurtosis:                       2.468   Cond. No.                     2.11e+04\n",
      "==============================================================================\n",
      "\n",
      "Notes:\n",
      "[1] Standard Errors are heteroscedasticity robust (HC2)\n",
      "[2] The condition number is large, 2.11e+04. This might indicate that there are\n",
      "strong multicollinearity or other numerical problems.\n"
     ]
    }
   ],
   "source": [
    "lin_reg = sm.regression.linear_model.OLS(endog=smoking_data[\"smoker\"], exog=smoking_data[smoking_data.columns[1:]])\n",
    "lin_reg_fit = lin_reg.fit(cov_type=\"HC2\")\n",
    "print(lin_reg_fit.summary())"
   ]
  },
  {
   "cell_type": "markdown",
   "metadata": {},
   "source": [
    "### Interpret beta_hat_1\n",
    "### beta_hat_1 captures the effect of an existing smoking ban at the work place\n",
    "### Remember this variable was binary"
   ]
  },
  {
   "cell_type": "code",
   "execution_count": 11,
   "metadata": {},
   "outputs": [
    {
     "name": "stdout",
     "output_type": "stream",
     "text": [
      "-0.04805196345001899\n"
     ]
    }
   ],
   "source": [
    "print(lin_reg_fit.params[\"smkban\"])"
   ]
  },
  {
   "cell_type": "markdown",
   "metadata": {},
   "source": [
    "### -0.04805196345001899\n",
    "### The estimated parameter of the smkban has the desired sign and\n",
    "### is about: -0.04805196345001899 what would mean that if a smoking ban exists at the work\n",
    "### place (smkban=1) it reduces the likelihood that the individual smokes since\n",
    "### the parameters reduces the result by its sign, its magnitude is rather small\n",
    "### being roughly -0.05 what could indicate the strength of the taken measures at\n",
    "### the work place"
   ]
  },
  {
   "cell_type": "markdown",
   "metadata": {},
   "source": [
    "### Is beta_hat_1 statistically significant?\n",
    "### Since its p-value is <0.05 we can argue that it is statistically significant"
   ]
  },
  {
   "cell_type": "code",
   "execution_count": 9,
   "metadata": {},
   "outputs": [
    {
     "name": "stdout",
     "output_type": "stream",
     "text": [
      "                             Test for Constraints                             \n",
      "==============================================================================\n",
      "                 coef    std err          t      P>|t|      [0.025      0.975]\n",
      "------------------------------------------------------------------------------\n",
      "c0            -0.0481      0.009     -5.349      0.000      -0.066      -0.030\n",
      "==============================================================================\n"
     ]
    }
   ],
   "source": [
    "hypothesis_0 = \"smkban = 0\"\n",
    "t_test_smkban = lin_reg_fit.t_test(hypothesis_0, use_t=True)\n",
    "print(t_test_smkban)"
   ]
  },
  {
   "cell_type": "markdown",
   "metadata": {},
   "source": [
    "### p-value: 0.000\n",
    "### Since the p-value is < 0.05 and even <0.01 we have to reject the H0 Hypothesis\n",
    "### that the estimated beta parameter for the variable smkban is 0 or insignificant"
   ]
  },
  {
   "cell_type": "code",
   "execution_count": null,
   "metadata": {},
   "outputs": [],
   "source": [
    "z_score = ((0 - lin_reg_fit.params[\"smkban\"]) / t_test_smkban.summary_frame()[\"std err\"])\n",
    "st.norm.pdf(z_score)\n",
    "# Compare t value with critical value for test decision\n",
    "abs(t_test_smkban.summary_frame()[\"t\"])"
   ]
  },
  {
   "cell_type": "markdown",
   "metadata": {},
   "source": [
    "### c)\n",
    "### Does the probability of smoking increase or decre- ase with the level of education?\n",
    "### Observe the educational related variables: hsdrop, hsgrad, colsome, colgrad,"
   ]
  },
  {
   "cell_type": "code",
   "execution_count": null,
   "metadata": {},
   "outputs": [],
   "source": [
    "print(lin_reg_fit.summary())"
   ]
  },
  {
   "cell_type": "markdown",
   "metadata": {},
   "source": [
    "### Observing the educational related variables inlcuded in the model one can see\n",
    "### the following trend: \n",
    "### the higher the education of an individual the less likely or the smaller the chance\n",
    "### that this individual is a smoker\n",
    "### as high school drop outs have an effect of 0.2822, high school grads: 0.2246\n",
    "### attended a college: 0.1556 and finally college grads are least likely ending up\n",
    "### as a smoker with: 0.0433"
   ]
  },
  {
   "cell_type": "code",
   "execution_count": 12,
   "metadata": {},
   "outputs": [
    {
     "name": "stdout",
     "output_type": "stream",
     "text": [
      "constant_         NaN\n",
      "smkban       0.021180\n",
      "age          0.057812\n",
      "age_sqrt     0.009889\n",
      "hsdrop       0.282320\n",
      "hsgrad       0.057636\n",
      "colsome      0.068939\n",
      "colgrad      0.112291\n",
      "female       0.075457\n",
      "dtype: float64\n"
     ]
    }
   ],
   "source": [
    "print(abs(lin_reg_fit.params.diff()))"
   ]
  },
  {
   "cell_type": "markdown",
   "metadata": {},
   "source": [
    "### where the effect or absolute difference is biggest between attended college and\n",
    "### the college grads, so finishing college is advised\n",
    "\n",
    "### Perform Wald test for joint parameter test\n",
    "### test if hsdrop and hsgrad have the same effect for the smoking probability"
   ]
  },
  {
   "cell_type": "code",
   "execution_count": 13,
   "metadata": {},
   "outputs": [
    {
     "name": "stdout",
     "output_type": "stream",
     "text": [
      "[[10.2478391]]\n"
     ]
    },
    {
     "name": "stderr",
     "output_type": "stream",
     "text": [
      "/Library/Frameworks/Python.framework/Versions/3.8/lib/python3.8/site-packages/statsmodels/base/model.py:1906: FutureWarning: The behavior of wald_test will change after 0.14 to returning scalar test statistic values. To get the future behavior now, set scalar to True. To silence this message while retaining the legacy behavior, set scalar to False.\n",
      "  warnings.warn(\n"
     ]
    }
   ],
   "source": [
    "hypothesis_0 = ' = '.join([\"hsdrop\", \"hsgrad\"])\n",
    "wald_test = lin_reg_fit.wald_test(hypothesis_0)\n",
    "print(wald_test.statistic)"
   ]
  },
  {
   "cell_type": "markdown",
   "metadata": {},
   "source": [
    "### chi2 statistic: 10.2478391\n",
    "### p-value: 0.0013684480785456001\n",
    "### Compare with critical value for test decision"
   ]
  },
  {
   "cell_type": "markdown",
   "metadata": {},
   "source": [
    "### d)\n",
    "### Predict with fitted model and interprete"
   ]
  },
  {
   "cell_type": "code",
   "execution_count": null,
   "metadata": {},
   "outputs": [],
   "source": [
    "smkban_pred = 1\n",
    "age_pred = 70\n",
    "age_sqrt_pred = np.power(age_pred, 2)\n",
    "hsdrop_pred, hsgrad_pred, colsome_pred = 0, 0, 0\n",
    "colgrad_pred = 1\n",
    "female_pred = 1"
   ]
  },
  {
   "cell_type": "code",
   "execution_count": null,
   "metadata": {},
   "outputs": [],
   "source": [
    "# Keep the correct order\n",
    "smoking_data[smoking_data.columns[1:]]\n",
    "\n",
    "x_pred = [1, smkban_pred, age_pred, age_sqrt_pred, hsdrop_pred, hsgrad_pred, colsome_pred, colgrad_pred, female_pred]\n",
    "\n",
    "y_pred = lin_reg_fit.predict(x_pred)\n",
    "y_pred\n",
    "# -0.01326874"
   ]
  },
  {
   "cell_type": "markdown",
   "metadata": {},
   "source": [
    "### Estimate seems to be very low, so the bespoke individual seems to be very \n",
    "### unlikely to be a smoker and contradictingly has a negative sign"
   ]
  },
  {
   "cell_type": "code",
   "execution_count": 14,
   "metadata": {},
   "outputs": [
    {
     "name": "stdout",
     "output_type": "stream",
     "text": [
      "      smoker  constant_  smkban  age  age_sqrt  hsdrop  hsgrad  colsome  \\\n",
      "131        0          1       1   76      5776       0       0        1   \n",
      "169        0          1       0   76      5776       1       0        0   \n",
      "196        0          1       1   78      6084       0       0        0   \n",
      "203        0          1       0   71      5041       0       1        0   \n",
      "275        0          1       0   78      6084       0       1        0   \n",
      "...      ...        ...     ...  ...       ...     ...     ...      ...   \n",
      "9096       0          1       0   75      5625       0       1        0   \n",
      "9204       0          1       0   74      5476       0       0        1   \n",
      "9220       0          1       0   74      5476       0       1        0   \n",
      "9288       0          1       1   73      5329       1       0        0   \n",
      "9921       1          1       1   72      5184       0       1        0   \n",
      "\n",
      "      colgrad  female  \n",
      "131         0       1  \n",
      "169         0       0  \n",
      "196         0       1  \n",
      "203         0       1  \n",
      "275         0       1  \n",
      "...       ...     ...  \n",
      "9096        0       1  \n",
      "9204        0       0  \n",
      "9220        0       1  \n",
      "9288        0       0  \n",
      "9921        0       1  \n",
      "\n",
      "[103 rows x 10 columns]\n",
      "(15, 10)\n"
     ]
    }
   ],
   "source": [
    "# Linear probability model is not appropriate in this case\n",
    "print(smoking_data.query(\"age >= 70\"))\n",
    "# 103 rows out of 10000 records\n",
    "print(smoking_data.query(\"age >= 70 and smoker == 1\").shape)"
   ]
  },
  {
   "cell_type": "markdown",
   "metadata": {},
   "source": [
    "### 15 records ou of the >= 70s that smoke\n",
    "### and only two are college grads\n",
    "### So these given settings represent an extreme case where the trained linear model\n",
    "### with its average effect might lead to insufficient accuracy "
   ]
  },
  {
   "cell_type": "markdown",
   "metadata": {},
   "source": [
    "# Execise 2)\n",
    "### a)\n",
    "### average partial effects of smoking ban on probability of smoking using i) probit and ii) logit model\n",
    "### i) Probit Model"
   ]
  },
  {
   "cell_type": "code",
   "execution_count": null,
   "metadata": {},
   "outputs": [],
   "source": [
    "probit_mod = sm.Probit(endog=smoking_data[\"smoker\"], exog=smoking_data[smoking_data.columns[1:]])\n",
    "probit_mod_fit = probit_mod.fit()\n",
    "probit_mod_fit.summary()\n",
    "# Average Partial Effect (APE)\n",
    "probit_mod_ape = probit_mod_fit.get_margeff(at=\"mean\", method=\"dydx\", atexog=\"smkban\")\n",
    "# estimate: smkban: -0.0485\n",
    "probit_mod_ape.summary()\n",
    "# 'dydx' - change in `endog` for a change in `exog`\n",
    "# mkban: -0.0485"
   ]
  },
  {
   "cell_type": "markdown",
   "metadata": {},
   "source": [
    "### ii) Logit Model"
   ]
  },
  {
   "cell_type": "markdown",
   "metadata": {},
   "source": [
    "logit_mod = sm.Logit(endog=smoking_data[\"smoker\"], exog=smoking_data[smoking_data.columns[1:]])\n",
    "logit_mod_fit = logit_mod.fit()\n",
    "logit_mod_fit.summary()\n",
    "# Average Partial Effect (APE)\n",
    "logit_mod_ape = logit_mod_fit.get_margeff(at=\"mean\", method=\"dydx\", atexog=\"smkban\")\n",
    "# estimate: smkban: 0.2652\n",
    "logit_mod_ape.summary()\n",
    "# 'dydx' - change in `endog` for a change in `exog`\n",
    "# mkban: -0.0464"
   ]
  },
  {
   "cell_type": "markdown",
   "metadata": {},
   "source": [
    "### Effect statistically significant?"
   ]
  },
  {
   "cell_type": "markdown",
   "metadata": {},
   "source": [
    "### Display the results side by side in a compariosn table"
   ]
  },
  {
   "cell_type": "markdown",
   "metadata": {},
   "source": [
    "param = \"smkban\"\n",
    "lin_reg_eff = lin_reg_fit.params[param]\n",
    "logit_eff = logit_mod_ape.summary_frame().loc[param, \"dy/dx\"]\n",
    "probit_eff = probit_mod_ape.summary_frame().loc[param, \"dy/dx\"]\n",
    "\n",
    "comp_eff_df = pd.DataFrame(index=[\"Linear Regression\", \"Logit Model\", \"Probit Model\"],\n",
    "                           data=[lin_reg_eff, logit_eff, probit_eff],\n",
    "                           columns=[\"Average Partiial Effects (APE)\"])\n",
    "print(comp_eff_df)"
   ]
  },
  {
   "cell_type": "markdown",
   "metadata": {},
   "source": [
    "### b)\n",
    "### Probit Model to calculate the effect for groups specified\n",
    "### Estimate the model new for the groups or predict for the groups?"
   ]
  },
  {
   "cell_type": "markdown",
   "metadata": {},
   "source": [
    "### i) male, 40 years old, college graduate."
   ]
  },
  {
   "cell_type": "markdown",
   "metadata": {},
   "source": [
    "exog_probit_i = smoking_data.query(\"female == 0 and age == 40 and colgrad == 1\").copy().reset_index(drop=True)\n",
    "probit_mod_i = sm.Probit(endog=exog_probit_i[\"smoker\"], exog=exog_probit_i[exog_probit_i.columns[1:]])\n",
    "probit_mod_i_fit = probit_mod_i.fit()\n",
    "probit_mod_i_fit.summary()\n",
    "# Average Partial Effect (APE)\n",
    "probit_mod_i_ape = probit_mod_i_fit.get_margeff(at=\"mean\", method=\"dydx\", atexog=\"smkban\")\n",
    "# estimate: smkban: -0.1600\n",
    "print(probit_mod_i_ape.summary())\n",
    "# -0.0485"
   ]
  },
  {
   "cell_type": "markdown",
   "metadata": {},
   "source": [
    "### ii) female, 20 years old, high school dropout."
   ]
  },
  {
   "cell_type": "markdown",
   "metadata": {},
   "source": [
    "exog_probit_ii = smoking_data.query(\"female == 1 and age == 20 and hsdrop == 1\").copy().reset_index(drop=True)\n",
    "probit_mod_ii = sm.Probit(endog=exog_probit_ii[\"smoker\"], exog=exog_probit_ii[exog_probit_ii.columns[1:]])\n",
    "probit_mod_ii_fit = probit_mod_ii.fit()\n",
    "# numpy.linalg.LinAlgError: Singular matrix\n",
    "probit_mod_ii_fit.summary()\n",
    "# Average Partial Effect (APE)\n",
    "probit_mod_ii_ape = probit_mod_ii_fit.get_margeff(at=\"mean\", method=\"dydx\", atexog=\"smkban\")\n",
    "# estimate: smkban:\n",
    "print(probit_mod_ii_ape.summary())"
   ]
  }
 ],
 "metadata": {
  "kernelspec": {
   "display_name": "Python 3",
   "language": "python",
   "name": "python3"
  },
  "language_info": {
   "codemirror_mode": {
    "name": "ipython",
    "version": 3
   },
   "file_extension": ".py",
   "mimetype": "text/x-python",
   "name": "python",
   "nbconvert_exporter": "python",
   "pygments_lexer": "ipython3",
   "version": "3.8.2"
  }
 },
 "nbformat": 4,
 "nbformat_minor": 2
}
